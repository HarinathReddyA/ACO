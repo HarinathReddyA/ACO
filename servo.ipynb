{
  "nbformat": 4,
  "nbformat_minor": 0,
  "metadata": {
    "kernelspec": {
      "display_name": "Python 3",
      "language": "python",
      "name": "python3"
    },
    "language_info": {
      "codemirror_mode": {
        "name": "ipython",
        "version": 3
      },
      "file_extension": ".py",
      "mimetype": "text/x-python",
      "name": "python",
      "nbconvert_exporter": "python",
      "pygments_lexer": "ipython3",
      "version": "3.7.3"
    },
    "colab": {
      "name": "servo.ipynb",
      "provenance": [],
      "include_colab_link": true
    }
  },
  "cells": [
    {
      "cell_type": "markdown",
      "metadata": {
        "id": "view-in-github",
        "colab_type": "text"
      },
      "source": [
        "<a href=\"https://colab.research.google.com/github/HarinathReddyA/ACO/blob/master/servo.ipynb\" target=\"_parent\"><img src=\"https://colab.research.google.com/assets/colab-badge.svg\" alt=\"Open In Colab\"/></a>"
      ]
    },
    {
      "cell_type": "code",
      "metadata": {
        "id": "vpUP8Wo-rmC8",
        "colab_type": "code",
        "colab": {}
      },
      "source": [
        "import tensorflow as tf\n",
        "import pandas as pd\n",
        "import numpy as np\n",
        "import matplotlib.pyplot as plt\n",
        "import seaborn as sns\n",
        "%matplotlib inline"
      ],
      "execution_count": 95,
      "outputs": []
    },
    {
      "cell_type": "code",
      "metadata": {
        "id": "dXf6L9asrmDA",
        "colab_type": "code",
        "colab": {
          "base_uri": "https://localhost:8080/",
          "height": 283
        },
        "outputId": "490bcf18-c50a-4a59-cf88-adf9175876aa"
      },
      "source": [
        "df  = pd.read_csv(\"servo.csv\")\n",
        "df.head()\n",
        "sns.heatmap(df.corr())"
      ],
      "execution_count": 96,
      "outputs": [
        {
          "output_type": "execute_result",
          "data": {
            "text/plain": [
              "<matplotlib.axes._subplots.AxesSubplot at 0x7f01aa7c6cf8>"
            ]
          },
          "metadata": {
            "tags": []
          },
          "execution_count": 96
        },
        {
          "output_type": "display_data",
          "data": {
            "image/png": "[encoded data removed]",
            "text/plain": [
              "<Figure size 432x288 with 2 Axes>"
            ]
          },
          "metadata": {
            "tags": [],
            "needs_background": "light"
          }
        }
      ]
    },
    {
      "cell_type": "markdown",
      "metadata": {
        "id": "_rxdw3EervZw",
        "colab_type": "text"
      },
      "source": [
        "# New Section"
      ]
    },
    {
      "cell_type": "code",
      "metadata": {
        "id": "0Nc8wT4DrmDD",
        "colab_type": "code",
        "colab": {
          "base_uri": "https://localhost:8080/",
          "height": 649
        },
        "outputId": "1d60fcea-018d-41d3-997c-7442f9cc62bb"
      },
      "source": [
        "df.head(20)"
      ],
      "execution_count": 97,
      "outputs": [
        {
          "output_type": "execute_result",
          "data": {
            "text/html": [
              "<div>\n",
              "<style scoped>\n",
              "    .dataframe tbody tr th:only-of-type {\n",
              "        vertical-align: middle;\n",
              "    }\n",
              "\n",
              "    .dataframe tbody tr th {\n",
              "        vertical-align: top;\n",
              "    }\n",
              "\n",
              "    .dataframe thead th {\n",
              "        text-align: right;\n",
              "    }\n",
              "</style>\n",
              "<table border=\"1\" class=\"dataframe\">\n",
              "  <thead>\n",
              "    <tr style=\"text-align: right;\">\n",
              "      <th></th>\n",
              "      <th>motor</th>\n",
              "      <th>screw</th>\n",
              "      <th>pgain</th>\n",
              "      <th>vgain</th>\n",
              "      <th>class</th>\n",
              "    </tr>\n",
              "  </thead>\n",
              "  <tbody>\n",
              "    <tr>\n",
              "      <th>0</th>\n",
              "      <td>E</td>\n",
              "      <td>E</td>\n",
              "      <td>5</td>\n",
              "      <td>4</td>\n",
              "      <td>0.281251</td>\n",
              "    </tr>\n",
              "    <tr>\n",
              "      <th>1</th>\n",
              "      <td>B</td>\n",
              "      <td>D</td>\n",
              "      <td>6</td>\n",
              "      <td>5</td>\n",
              "      <td>0.506252</td>\n",
              "    </tr>\n",
              "    <tr>\n",
              "      <th>2</th>\n",
              "      <td>D</td>\n",
              "      <td>D</td>\n",
              "      <td>4</td>\n",
              "      <td>3</td>\n",
              "      <td>0.356251</td>\n",
              "    </tr>\n",
              "    <tr>\n",
              "      <th>3</th>\n",
              "      <td>B</td>\n",
              "      <td>A</td>\n",
              "      <td>3</td>\n",
              "      <td>2</td>\n",
              "      <td>5.500033</td>\n",
              "    </tr>\n",
              "    <tr>\n",
              "      <th>4</th>\n",
              "      <td>D</td>\n",
              "      <td>B</td>\n",
              "      <td>6</td>\n",
              "      <td>5</td>\n",
              "      <td>0.356251</td>\n",
              "    </tr>\n",
              "    <tr>\n",
              "      <th>5</th>\n",
              "      <td>E</td>\n",
              "      <td>C</td>\n",
              "      <td>4</td>\n",
              "      <td>3</td>\n",
              "      <td>0.806255</td>\n",
              "    </tr>\n",
              "    <tr>\n",
              "      <th>6</th>\n",
              "      <td>C</td>\n",
              "      <td>A</td>\n",
              "      <td>3</td>\n",
              "      <td>2</td>\n",
              "      <td>5.100014</td>\n",
              "    </tr>\n",
              "    <tr>\n",
              "      <th>7</th>\n",
              "      <td>A</td>\n",
              "      <td>A</td>\n",
              "      <td>3</td>\n",
              "      <td>2</td>\n",
              "      <td>5.700042</td>\n",
              "    </tr>\n",
              "    <tr>\n",
              "      <th>8</th>\n",
              "      <td>C</td>\n",
              "      <td>A</td>\n",
              "      <td>6</td>\n",
              "      <td>5</td>\n",
              "      <td>0.768754</td>\n",
              "    </tr>\n",
              "    <tr>\n",
              "      <th>9</th>\n",
              "      <td>D</td>\n",
              "      <td>A</td>\n",
              "      <td>4</td>\n",
              "      <td>1</td>\n",
              "      <td>1.031254</td>\n",
              "    </tr>\n",
              "    <tr>\n",
              "      <th>10</th>\n",
              "      <td>B</td>\n",
              "      <td>E</td>\n",
              "      <td>6</td>\n",
              "      <td>5</td>\n",
              "      <td>0.468752</td>\n",
              "    </tr>\n",
              "    <tr>\n",
              "      <th>11</th>\n",
              "      <td>E</td>\n",
              "      <td>C</td>\n",
              "      <td>5</td>\n",
              "      <td>4</td>\n",
              "      <td>0.393752</td>\n",
              "    </tr>\n",
              "    <tr>\n",
              "      <th>12</th>\n",
              "      <td>B</td>\n",
              "      <td>C</td>\n",
              "      <td>4</td>\n",
              "      <td>1</td>\n",
              "      <td>0.281251</td>\n",
              "    </tr>\n",
              "    <tr>\n",
              "      <th>13</th>\n",
              "      <td>E</td>\n",
              "      <td>C</td>\n",
              "      <td>3</td>\n",
              "      <td>1</td>\n",
              "      <td>1.100000</td>\n",
              "    </tr>\n",
              "    <tr>\n",
              "      <th>14</th>\n",
              "      <td>C</td>\n",
              "      <td>C</td>\n",
              "      <td>5</td>\n",
              "      <td>4</td>\n",
              "      <td>0.506252</td>\n",
              "    </tr>\n",
              "    <tr>\n",
              "      <th>15</th>\n",
              "      <td>E</td>\n",
              "      <td>B</td>\n",
              "      <td>3</td>\n",
              "      <td>2</td>\n",
              "      <td>1.899990</td>\n",
              "    </tr>\n",
              "    <tr>\n",
              "      <th>16</th>\n",
              "      <td>D</td>\n",
              "      <td>C</td>\n",
              "      <td>3</td>\n",
              "      <td>1</td>\n",
              "      <td>0.900001</td>\n",
              "    </tr>\n",
              "    <tr>\n",
              "      <th>17</th>\n",
              "      <td>B</td>\n",
              "      <td>C</td>\n",
              "      <td>5</td>\n",
              "      <td>4</td>\n",
              "      <td>0.468752</td>\n",
              "    </tr>\n",
              "    <tr>\n",
              "      <th>18</th>\n",
              "      <td>B</td>\n",
              "      <td>B</td>\n",
              "      <td>5</td>\n",
              "      <td>4</td>\n",
              "      <td>0.543753</td>\n",
              "    </tr>\n",
              "    <tr>\n",
              "      <th>19</th>\n",
              "      <td>C</td>\n",
              "      <td>E</td>\n",
              "      <td>4</td>\n",
              "      <td>2</td>\n",
              "      <td>0.206250</td>\n",
              "    </tr>\n",
              "  </tbody>\n",
              "</table>\n",
              "</div>"
            ],
            "text/plain": [
              "   motor screw  pgain  vgain     class\n",
              "0      E     E      5      4  0.281251\n",
              "1      B     D      6      5  0.506252\n",
              "2      D     D      4      3  0.356251\n",
              "3      B     A      3      2  5.500033\n",
              "4      D     B      6      5  0.356251\n",
              "5      E     C      4      3  0.806255\n",
              "6      C     A      3      2  5.100014\n",
              "7      A     A      3      2  5.700042\n",
              "8      C     A      6      5  0.768754\n",
              "9      D     A      4      1  1.031254\n",
              "10     B     E      6      5  0.468752\n",
              "11     E     C      5      4  0.393752\n",
              "12     B     C      4      1  0.281251\n",
              "13     E     C      3      1  1.100000\n",
              "14     C     C      5      4  0.506252\n",
              "15     E     B      3      2  1.899990\n",
              "16     D     C      3      1  0.900001\n",
              "17     B     C      5      4  0.468752\n",
              "18     B     B      5      4  0.543753\n",
              "19     C     E      4      2  0.206250"
            ]
          },
          "metadata": {
            "tags": []
          },
          "execution_count": 97
        }
      ]
    },
    {
      "cell_type": "code",
      "metadata": {
        "id": "AKKVhJVxs2JJ",
        "colab_type": "code",
        "colab": {
          "base_uri": "https://localhost:8080/",
          "height": 104
        },
        "outputId": "ad334839-43da-427b-f476-b0914cd3386a"
      },
      "source": [
        "scale_mapper = {'E':5,'D':4,'C':3,'B':2,'A':1}\n",
        "df['motor']=df['motor'].replace(scale_mapper)\n",
        "print(df.iloc[20,0:4])"
      ],
      "execution_count": 98,
      "outputs": [
        {
          "output_type": "stream",
          "text": [
            "motor    5\n",
            "screw    D\n",
            "pgain    4\n",
            "vgain    3\n",
            "Name: 20, dtype: object\n"
          ],
          "name": "stdout"
        }
      ]
    },
    {
      "cell_type": "code",
      "metadata": {
        "id": "UeAv7PThrmDK",
        "colab_type": "code",
        "colab": {
          "base_uri": "https://localhost:8080/",
          "height": 224
        },
        "outputId": "d5ea7630-9369-4c75-a428-80a37a9ab78c"
      },
      "source": [
        "df['screw']=df['screw'].replace(scale_mapper)\n",
        "vg = df['vgain']\n",
        "vg = (vg/np.max(vg))/df['vgain'].std()\n",
        "print(vg)"
      ],
      "execution_count": 99,
      "outputs": [
        {
          "output_type": "stream",
          "text": [
            "0      0.584006\n",
            "1      0.730007\n",
            "2      0.438004\n",
            "3      0.292003\n",
            "4      0.730007\n",
            "         ...   \n",
            "162    0.292003\n",
            "163    0.146001\n",
            "164    0.438004\n",
            "165    0.292003\n",
            "166    0.730007\n",
            "Name: vgain, Length: 167, dtype: float64\n"
          ],
          "name": "stdout"
        }
      ]
    },
    {
      "cell_type": "code",
      "metadata": {
        "id": "hwrfXq_FrmDN",
        "colab_type": "code",
        "colab": {
          "base_uri": "https://localhost:8080/",
          "height": 283
        },
        "outputId": "81683ed2-31bd-4885-c45c-1bac06b0aca5"
      },
      "source": [
        "df.describe()\n",
        "sns.heatmap(df.corr())"
      ],
      "execution_count": 100,
      "outputs": [
        {
          "output_type": "execute_result",
          "data": {
            "text/plain": [
              "<matplotlib.axes._subplots.AxesSubplot at 0x7f01aa73c4e0>"
            ]
          },
          "metadata": {
            "tags": []
          },
          "execution_count": 100
        },
        {
          "output_type": "display_data",
          "data": {
            "image/png": "[encoded data removed]",
            "text/plain": [
              "<Figure size 432x288 with 2 Axes>"
            ]
          },
          "metadata": {
            "tags": [],
            "needs_background": "light"
          }
        }
      ]
    },
    {
      "cell_type": "code",
      "metadata": {
        "id": "iZLT7RhcrmDS",
        "colab_type": "code",
        "colab": {}
      },
      "source": [
        "df_norm = df.iloc[:,0:5]-np.mean(df.iloc[:,0:5])/df.iloc[:,0:5].std()"
      ],
      "execution_count": 101,
      "outputs": []
    },
    {
      "cell_type": "code",
      "metadata": {
        "id": "WXZmx_hxrmDU",
        "colab_type": "code",
        "colab": {
          "base_uri": "https://localhost:8080/",
          "height": 198
        },
        "outputId": "9fd0ca2b-f1c6-40be-b98f-da4bbb289253"
      },
      "source": [
        "df_norm.head()"
      ],
      "execution_count": 102,
      "outputs": [
        {
          "output_type": "execute_result",
          "data": {
            "text/html": [
              "<div>\n",
              "<style scoped>\n",
              "    .dataframe tbody tr th:only-of-type {\n",
              "        vertical-align: middle;\n",
              "    }\n",
              "\n",
              "    .dataframe tbody tr th {\n",
              "        vertical-align: top;\n",
              "    }\n",
              "\n",
              "    .dataframe thead th {\n",
              "        text-align: right;\n",
              "    }\n",
              "</style>\n",
              "<table border=\"1\" class=\"dataframe\">\n",
              "  <thead>\n",
              "    <tr style=\"text-align: right;\">\n",
              "      <th></th>\n",
              "      <th>motor</th>\n",
              "      <th>screw</th>\n",
              "      <th>pgain</th>\n",
              "      <th>vgain</th>\n",
              "      <th>class</th>\n",
              "    </tr>\n",
              "  </thead>\n",
              "  <tbody>\n",
              "    <tr>\n",
              "      <th>0</th>\n",
              "      <td>2.96215</td>\n",
              "      <td>3.04281</td>\n",
              "      <td>0.916869</td>\n",
              "      <td>2.146569</td>\n",
              "      <td>-0.609796</td>\n",
              "    </tr>\n",
              "    <tr>\n",
              "      <th>1</th>\n",
              "      <td>-0.03785</td>\n",
              "      <td>2.04281</td>\n",
              "      <td>1.916869</td>\n",
              "      <td>3.146569</td>\n",
              "      <td>-0.384795</td>\n",
              "    </tr>\n",
              "    <tr>\n",
              "      <th>2</th>\n",
              "      <td>1.96215</td>\n",
              "      <td>2.04281</td>\n",
              "      <td>-0.083131</td>\n",
              "      <td>1.146569</td>\n",
              "      <td>-0.534796</td>\n",
              "    </tr>\n",
              "    <tr>\n",
              "      <th>3</th>\n",
              "      <td>-0.03785</td>\n",
              "      <td>-0.95719</td>\n",
              "      <td>-1.083131</td>\n",
              "      <td>0.146569</td>\n",
              "      <td>4.608986</td>\n",
              "    </tr>\n",
              "    <tr>\n",
              "      <th>4</th>\n",
              "      <td>1.96215</td>\n",
              "      <td>0.04281</td>\n",
              "      <td>1.916869</td>\n",
              "      <td>3.146569</td>\n",
              "      <td>-0.534796</td>\n",
              "    </tr>\n",
              "  </tbody>\n",
              "</table>\n",
              "</div>"
            ],
            "text/plain": [
              "     motor    screw     pgain     vgain     class\n",
              "0  2.96215  3.04281  0.916869  2.146569 -0.609796\n",
              "1 -0.03785  2.04281  1.916869  3.146569 -0.384795\n",
              "2  1.96215  2.04281 -0.083131  1.146569 -0.534796\n",
              "3 -0.03785 -0.95719 -1.083131  0.146569  4.608986\n",
              "4  1.96215  0.04281  1.916869  3.146569 -0.534796"
            ]
          },
          "metadata": {
            "tags": []
          },
          "execution_count": 102
        }
      ]
    },
    {
      "cell_type": "code",
      "metadata": {
        "id": "IFzEgx-armDW",
        "colab_type": "code",
        "colab": {}
      },
      "source": [
        ""
      ],
      "execution_count": 59,
      "outputs": []
    },
    {
      "cell_type": "code",
      "metadata": {
        "id": "kXSazsFUrmDY",
        "colab_type": "code",
        "colab": {
          "base_uri": "https://localhost:8080/",
          "height": 198
        },
        "outputId": "e002cc2b-fb63-4659-8367-7528f2df5bf2"
      },
      "source": [
        "X = df_norm.iloc[:,0:4]\n",
        "X.head()"
      ],
      "execution_count": 104,
      "outputs": [
        {
          "output_type": "execute_result",
          "data": {
            "text/html": [
              "<div>\n",
              "<style scoped>\n",
              "    .dataframe tbody tr th:only-of-type {\n",
              "        vertical-align: middle;\n",
              "    }\n",
              "\n",
              "    .dataframe tbody tr th {\n",
              "        vertical-align: top;\n",
              "    }\n",
              "\n",
              "    .dataframe thead th {\n",
              "        text-align: right;\n",
              "    }\n",
              "</style>\n",
              "<table border=\"1\" class=\"dataframe\">\n",
              "  <thead>\n",
              "    <tr style=\"text-align: right;\">\n",
              "      <th></th>\n",
              "      <th>motor</th>\n",
              "      <th>screw</th>\n",
              "      <th>pgain</th>\n",
              "      <th>vgain</th>\n",
              "    </tr>\n",
              "  </thead>\n",
              "  <tbody>\n",
              "    <tr>\n",
              "      <th>0</th>\n",
              "      <td>2.96215</td>\n",
              "      <td>3.04281</td>\n",
              "      <td>0.916869</td>\n",
              "      <td>2.146569</td>\n",
              "    </tr>\n",
              "    <tr>\n",
              "      <th>1</th>\n",
              "      <td>-0.03785</td>\n",
              "      <td>2.04281</td>\n",
              "      <td>1.916869</td>\n",
              "      <td>3.146569</td>\n",
              "    </tr>\n",
              "    <tr>\n",
              "      <th>2</th>\n",
              "      <td>1.96215</td>\n",
              "      <td>2.04281</td>\n",
              "      <td>-0.083131</td>\n",
              "      <td>1.146569</td>\n",
              "    </tr>\n",
              "    <tr>\n",
              "      <th>3</th>\n",
              "      <td>-0.03785</td>\n",
              "      <td>-0.95719</td>\n",
              "      <td>-1.083131</td>\n",
              "      <td>0.146569</td>\n",
              "    </tr>\n",
              "    <tr>\n",
              "      <th>4</th>\n",
              "      <td>1.96215</td>\n",
              "      <td>0.04281</td>\n",
              "      <td>1.916869</td>\n",
              "      <td>3.146569</td>\n",
              "    </tr>\n",
              "  </tbody>\n",
              "</table>\n",
              "</div>"
            ],
            "text/plain": [
              "     motor    screw     pgain     vgain\n",
              "0  2.96215  3.04281  0.916869  2.146569\n",
              "1 -0.03785  2.04281  1.916869  3.146569\n",
              "2  1.96215  2.04281 -0.083131  1.146569\n",
              "3 -0.03785 -0.95719 -1.083131  0.146569\n",
              "4  1.96215  0.04281  1.916869  3.146569"
            ]
          },
          "metadata": {
            "tags": []
          },
          "execution_count": 104
        }
      ]
    },
    {
      "cell_type": "code",
      "metadata": {
        "id": "0iObkrDDrmDa",
        "colab_type": "code",
        "colab": {
          "base_uri": "https://localhost:8080/",
          "height": 121
        },
        "outputId": "35dae46f-e507-4a1c-9f4c-d56139079a46"
      },
      "source": [
        "Y = df.iloc[:,-1]\n",
        "Y.head()\n"
      ],
      "execution_count": 105,
      "outputs": [
        {
          "output_type": "execute_result",
          "data": {
            "text/plain": [
              "0    0.281251\n",
              "1    0.506252\n",
              "2    0.356251\n",
              "3    5.500033\n",
              "4    0.356251\n",
              "Name: class, dtype: float64"
            ]
          },
          "metadata": {
            "tags": []
          },
          "execution_count": 105
        }
      ]
    },
    {
      "cell_type": "code",
      "metadata": {
        "id": "Cn1qibTqrmDb",
        "colab_type": "code",
        "colab": {}
      },
      "source": [
        "from sklearn.model_selection import train_test_split\n",
        "x_train,x_test,y_train,y_test = train_test_split(X.values,Y.values,test_size = 0.05,random_state = 0)"
      ],
      "execution_count": 106,
      "outputs": []
    },
    {
      "cell_type": "code",
      "metadata": {
        "id": "Bw3zvZoFrmDd",
        "colab_type": "code",
        "colab": {
          "base_uri": "https://localhost:8080/",
          "height": 283
        },
        "outputId": "236ea4b2-cfc7-4444-f1b0-be613e648dc9"
      },
      "source": [
        "sns.heatmap(df.corr())"
      ],
      "execution_count": 107,
      "outputs": [
        {
          "output_type": "execute_result",
          "data": {
            "text/plain": [
              "<matplotlib.axes._subplots.AxesSubplot at 0x7f01aa6bff28>"
            ]
          },
          "metadata": {
            "tags": []
          },
          "execution_count": 107
        },
        {
          "output_type": "display_data",
          "data": {
            "image/png": "[encoded data removed]",
            "text/plain": [
              "<Figure size 432x288 with 2 Axes>"
            ]
          },
          "metadata": {
            "tags": [],
            "needs_background": "light"
          }
        }
      ]
    },
    {
      "cell_type": "code",
      "metadata": {
        "id": "JvJgIp4FrmDf",
        "colab_type": "code",
        "colab": {
          "base_uri": "https://localhost:8080/",
          "height": 34
        },
        "outputId": "75b75d00-202e-4930-d1cc-cda1bb670ee7"
      },
      "source": [
        "from sklearn.linear_model import LinearRegression\n",
        "regressor = LinearRegression()\n",
        "regressor.fit(x_train,y_train)"
      ],
      "execution_count": 108,
      "outputs": [
        {
          "output_type": "execute_result",
          "data": {
            "text/plain": [
              "LinearRegression(copy_X=True, fit_intercept=True, n_jobs=None, normalize=False)"
            ]
          },
          "metadata": {
            "tags": []
          },
          "execution_count": 108
        }
      ]
    },
    {
      "cell_type": "code",
      "metadata": {
        "id": "rIxhgnjKrmDh",
        "colab_type": "code",
        "colab": {
          "base_uri": "https://localhost:8080/",
          "height": 52
        },
        "outputId": "8b5e10a6-2284-4690-daaf-19f9e8fa6d36"
      },
      "source": [
        "y_pred = regressor.predict(x_test)\n",
        "y_pred"
      ],
      "execution_count": 109,
      "outputs": [
        {
          "output_type": "execute_result",
          "data": {
            "text/plain": [
              "array([1.52641518, 2.28460176, 1.77029917, 1.07057271, 1.53337352,\n",
              "       3.00733528, 3.74227008, 1.28424658, 0.77256546])"
            ]
          },
          "metadata": {
            "tags": []
          },
          "execution_count": 109
        }
      ]
    },
    {
      "cell_type": "code",
      "metadata": {
        "id": "vC6CNbNyrmDj",
        "colab_type": "code",
        "colab": {
          "base_uri": "https://localhost:8080/",
          "height": 34
        },
        "outputId": "06416aef-e34b-47eb-92c0-0054754ccc91"
      },
      "source": [
        "print(regressor.coef_)"
      ],
      "execution_count": 110,
      "outputs": [
        {
          "output_type": "stream",
          "text": [
            "[-0.23954712 -0.25584056 -1.45766832  0.46951443]\n"
          ],
          "name": "stdout"
        }
      ]
    },
    {
      "cell_type": "code",
      "metadata": {
        "id": "wcstPtrtrmDl",
        "colab_type": "code",
        "colab": {
          "base_uri": "https://localhost:8080/",
          "height": 34
        },
        "outputId": "53845a4c-88d9-45d4-da75-51323292a034"
      },
      "source": [
        "print(regressor.intercept_)"
      ],
      "execution_count": 111,
      "outputs": [
        {
          "output_type": "stream",
          "text": [
            "1.6011062450768132\n"
          ],
          "name": "stdout"
        }
      ]
    },
    {
      "cell_type": "code",
      "metadata": {
        "id": "r8RpabqVrmDo",
        "colab_type": "code",
        "colab": {
          "base_uri": "https://localhost:8080/",
          "height": 34
        },
        "outputId": "75d4278e-c03d-4afa-9fa9-e7449a429cc8"
      },
      "source": [
        "from sklearn.metrics import r2_score\n",
        "r2_score(y_test,y_pred)"
      ],
      "execution_count": 112,
      "outputs": [
        {
          "output_type": "execute_result",
          "data": {
            "text/plain": [
              "0.6524990700344815"
            ]
          },
          "metadata": {
            "tags": []
          },
          "execution_count": 112
        }
      ]
    },
    {
      "cell_type": "code",
      "metadata": {
        "id": "TMabxSE-rmDq",
        "colab_type": "code",
        "colab": {
          "base_uri": "https://localhost:8080/",
          "height": 52
        },
        "outputId": "2e490a25-de1c-4e1b-a091-5c2f68a00894"
      },
      "source": [
        "from sklearn.preprocessing import PolynomialFeatures\n",
        "poly = PolynomialFeatures(degree = 4) \n",
        "X_poly = poly.fit_transform(x_train)\n",
        "poly.fit(X_poly, y_train) \n",
        "\n",
        "lin2 = LinearRegression() \n",
        "lin2.fit(X_poly, y_train) \n",
        "p_y_pred = lin2.predict(poly.fit_transform(x_test)) \n",
        "p_y_pred\n",
        "                         "
      ],
      "execution_count": 123,
      "outputs": [
        {
          "output_type": "execute_result",
          "data": {
            "text/plain": [
              "array([0.73881541, 0.79183879, 2.14726353, 0.38610378, 0.74642347,\n",
              "       3.2811116 , 5.26701484, 0.63365367, 0.86616098])"
            ]
          },
          "metadata": {
            "tags": []
          },
          "execution_count": 123
        }
      ]
    },
    {
      "cell_type": "code",
      "metadata": {
        "id": "TJPzBTEKrmDr",
        "colab_type": "code",
        "colab": {
          "base_uri": "https://localhost:8080/",
          "height": 34
        },
        "outputId": "0bcfb35a-45e4-477a-e3e5-3cb29e3bb89c"
      },
      "source": [
        "r2_score(y_test,p_y_pred)"
      ],
      "execution_count": 124,
      "outputs": [
        {
          "output_type": "execute_result",
          "data": {
            "text/plain": [
              "0.9146391613354283"
            ]
          },
          "metadata": {
            "tags": []
          },
          "execution_count": 124
        }
      ]
    },
    {
      "cell_type": "markdown",
      "metadata": {
        "id": "Dou3s7oO0Iaf",
        "colab_type": "text"
      },
      "source": [
        "Linear regression using single variable\n"
      ]
    },
    {
      "cell_type": "code",
      "metadata": {
        "id": "lU7NH0e6rmDt",
        "colab_type": "code",
        "colab": {
          "base_uri": "https://localhost:8080/",
          "height": 259
        },
        "outputId": "8671c262-3299-4188-8c3b-154b681d6b1f"
      },
      "source": [
        "print(df.iloc[:,0:])"
      ],
      "execution_count": 119,
      "outputs": [
        {
          "output_type": "stream",
          "text": [
            "     motor  screw  pgain  vgain     class\n",
            "0        5      5      5      4  0.281251\n",
            "1        2      4      6      5  0.506252\n",
            "2        4      4      4      3  0.356251\n",
            "3        2      1      3      2  5.500033\n",
            "4        4      2      6      5  0.356251\n",
            "..     ...    ...    ...    ...       ...\n",
            "162      2      3      3      2  4.499986\n",
            "163      2      5      3      1  3.699967\n",
            "164      3      4      4      3  0.956256\n",
            "165      1      2      3      2  4.499986\n",
            "166      1      1      6      5  0.806255\n",
            "\n",
            "[167 rows x 5 columns]\n"
          ],
          "name": "stdout"
        }
      ]
    },
    {
      "cell_type": "code",
      "metadata": {
        "id": "VIathdOirmDv",
        "colab_type": "code",
        "colab": {}
      },
      "source": [
        "#Vector normalization\n",
        "df_norm1 = df.iloc[:,0:]/np.sqrt(np.sum(df.iloc[:,0:]))"
      ],
      "execution_count": 120,
      "outputs": []
    },
    {
      "cell_type": "code",
      "metadata": {
        "id": "4MFUpkMQ08nC",
        "colab_type": "code",
        "colab": {
          "base_uri": "https://localhost:8080/",
          "height": 198
        },
        "outputId": "bbc0c76e-bba9-4f77-da6f-0a6423652a3b"
      },
      "source": [
        "df_norm1.head()"
      ],
      "execution_count": 121,
      "outputs": [
        {
          "output_type": "execute_result",
          "data": {
            "text/html": [
              "<div>\n",
              "<style scoped>\n",
              "    .dataframe tbody tr th:only-of-type {\n",
              "        vertical-align: middle;\n",
              "    }\n",
              "\n",
              "    .dataframe tbody tr th {\n",
              "        vertical-align: top;\n",
              "    }\n",
              "\n",
              "    .dataframe thead th {\n",
              "        text-align: right;\n",
              "    }\n",
              "</style>\n",
              "<table border=\"1\" class=\"dataframe\">\n",
              "  <thead>\n",
              "    <tr style=\"text-align: right;\">\n",
              "      <th></th>\n",
              "      <th>motor</th>\n",
              "      <th>screw</th>\n",
              "      <th>pgain</th>\n",
              "      <th>vgain</th>\n",
              "      <th>class</th>\n",
              "    </tr>\n",
              "  </thead>\n",
              "  <tbody>\n",
              "    <tr>\n",
              "      <th>0</th>\n",
              "      <td>0.227980</td>\n",
              "      <td>0.230633</td>\n",
              "      <td>0.189797</td>\n",
              "      <td>0.194257</td>\n",
              "      <td>0.018462</td>\n",
              "    </tr>\n",
              "    <tr>\n",
              "      <th>1</th>\n",
              "      <td>0.091192</td>\n",
              "      <td>0.184506</td>\n",
              "      <td>0.227757</td>\n",
              "      <td>0.242821</td>\n",
              "      <td>0.033231</td>\n",
              "    </tr>\n",
              "    <tr>\n",
              "      <th>2</th>\n",
              "      <td>0.182384</td>\n",
              "      <td>0.184506</td>\n",
              "      <td>0.151838</td>\n",
              "      <td>0.145693</td>\n",
              "      <td>0.023385</td>\n",
              "    </tr>\n",
              "    <tr>\n",
              "      <th>3</th>\n",
              "      <td>0.091192</td>\n",
              "      <td>0.046127</td>\n",
              "      <td>0.113878</td>\n",
              "      <td>0.097129</td>\n",
              "      <td>0.361032</td>\n",
              "    </tr>\n",
              "    <tr>\n",
              "      <th>4</th>\n",
              "      <td>0.182384</td>\n",
              "      <td>0.092253</td>\n",
              "      <td>0.227757</td>\n",
              "      <td>0.242821</td>\n",
              "      <td>0.023385</td>\n",
              "    </tr>\n",
              "  </tbody>\n",
              "</table>\n",
              "</div>"
            ],
            "text/plain": [
              "      motor     screw     pgain     vgain     class\n",
              "0  0.227980  0.230633  0.189797  0.194257  0.018462\n",
              "1  0.091192  0.184506  0.227757  0.242821  0.033231\n",
              "2  0.182384  0.184506  0.151838  0.145693  0.023385\n",
              "3  0.091192  0.046127  0.113878  0.097129  0.361032\n",
              "4  0.182384  0.092253  0.227757  0.242821  0.023385"
            ]
          },
          "metadata": {
            "tags": []
          },
          "execution_count": 121
        }
      ]
    },
    {
      "cell_type": "code",
      "metadata": {
        "id": "kIWxghRj1FzU",
        "colab_type": "code",
        "colab": {
          "base_uri": "https://localhost:8080/",
          "height": 198
        },
        "outputId": "9524cd58-0bd1-4e00-c5d3-fc9cb4a26e6b"
      },
      "source": [
        "X1 = df_norm1.iloc[:,0:4]\n",
        "X1.head()"
      ],
      "execution_count": 135,
      "outputs": [
        {
          "output_type": "execute_result",
          "data": {
            "text/html": [
              "<div>\n",
              "<style scoped>\n",
              "    .dataframe tbody tr th:only-of-type {\n",
              "        vertical-align: middle;\n",
              "    }\n",
              "\n",
              "    .dataframe tbody tr th {\n",
              "        vertical-align: top;\n",
              "    }\n",
              "\n",
              "    .dataframe thead th {\n",
              "        text-align: right;\n",
              "    }\n",
              "</style>\n",
              "<table border=\"1\" class=\"dataframe\">\n",
              "  <thead>\n",
              "    <tr style=\"text-align: right;\">\n",
              "      <th></th>\n",
              "      <th>motor</th>\n",
              "      <th>screw</th>\n",
              "      <th>pgain</th>\n",
              "      <th>vgain</th>\n",
              "    </tr>\n",
              "  </thead>\n",
              "  <tbody>\n",
              "    <tr>\n",
              "      <th>0</th>\n",
              "      <td>0.227980</td>\n",
              "      <td>0.230633</td>\n",
              "      <td>0.189797</td>\n",
              "      <td>0.194257</td>\n",
              "    </tr>\n",
              "    <tr>\n",
              "      <th>1</th>\n",
              "      <td>0.091192</td>\n",
              "      <td>0.184506</td>\n",
              "      <td>0.227757</td>\n",
              "      <td>0.242821</td>\n",
              "    </tr>\n",
              "    <tr>\n",
              "      <th>2</th>\n",
              "      <td>0.182384</td>\n",
              "      <td>0.184506</td>\n",
              "      <td>0.151838</td>\n",
              "      <td>0.145693</td>\n",
              "    </tr>\n",
              "    <tr>\n",
              "      <th>3</th>\n",
              "      <td>0.091192</td>\n",
              "      <td>0.046127</td>\n",
              "      <td>0.113878</td>\n",
              "      <td>0.097129</td>\n",
              "    </tr>\n",
              "    <tr>\n",
              "      <th>4</th>\n",
              "      <td>0.182384</td>\n",
              "      <td>0.092253</td>\n",
              "      <td>0.227757</td>\n",
              "      <td>0.242821</td>\n",
              "    </tr>\n",
              "  </tbody>\n",
              "</table>\n",
              "</div>"
            ],
            "text/plain": [
              "      motor     screw     pgain     vgain\n",
              "0  0.227980  0.230633  0.189797  0.194257\n",
              "1  0.091192  0.184506  0.227757  0.242821\n",
              "2  0.182384  0.184506  0.151838  0.145693\n",
              "3  0.091192  0.046127  0.113878  0.097129\n",
              "4  0.182384  0.092253  0.227757  0.242821"
            ]
          },
          "metadata": {
            "tags": []
          },
          "execution_count": 135
        }
      ]
    },
    {
      "cell_type": "code",
      "metadata": {
        "id": "7dr85lK92N_2",
        "colab_type": "code",
        "colab": {
          "base_uri": "https://localhost:8080/",
          "height": 121
        },
        "outputId": "fdf32fc6-eeff-4dc3-c942-66ed19f5f233"
      },
      "source": [
        "Y1 = df_norm1.iloc[:,-1]\n",
        "Y1.head()"
      ],
      "execution_count": 136,
      "outputs": [
        {
          "output_type": "execute_result",
          "data": {
            "text/plain": [
              "0    0.018462\n",
              "1    0.033231\n",
              "2    0.023385\n",
              "3    0.361032\n",
              "4    0.023385\n",
              "Name: class, dtype: float64"
            ]
          },
          "metadata": {
            "tags": []
          },
          "execution_count": 136
        }
      ]
    },
    {
      "cell_type": "code",
      "metadata": {
        "id": "tf8qE-2d2iEr",
        "colab_type": "code",
        "colab": {
          "base_uri": "https://localhost:8080/",
          "height": 52
        },
        "outputId": "d3311c66-a40c-4c88-d25b-5cfe621fb6f4"
      },
      "source": [
        "x_train,x_test,y_train,y_test = train_test_split(X1.values,Y1.values,test_size = 0.05,random_state = 0)\n",
        "regressor = LinearRegression()\n",
        "regressor.fit(x_train,y_train)\n",
        "y_pred = regressor.predict(x_test)\n",
        "y_pred"
      ],
      "execution_count": 137,
      "outputs": [
        {
          "output_type": "execute_result",
          "data": {
            "text/plain": [
              "array([0.10019651, 0.14996518, 0.11620547, 0.07027423, 0.10065327,\n",
              "       0.19740665, 0.24564903, 0.08430015, 0.05071252])"
            ]
          },
          "metadata": {
            "tags": []
          },
          "execution_count": 137
        }
      ]
    },
    {
      "cell_type": "code",
      "metadata": {
        "id": "rCnhGlPI8lOm",
        "colab_type": "code",
        "colab": {
          "base_uri": "https://localhost:8080/",
          "height": 34
        },
        "outputId": "671c3470-fb24-4635-a8c3-2b8874c598c7"
      },
      "source": [
        "r2_score(y_test,y_pred)"
      ],
      "execution_count": 138,
      "outputs": [
        {
          "output_type": "execute_result",
          "data": {
            "text/plain": [
              "0.6524990700344808"
            ]
          },
          "metadata": {
            "tags": []
          },
          "execution_count": 138
        }
      ]
    },
    {
      "cell_type": "code",
      "metadata": {
        "id": "qGanzEOQ88n8",
        "colab_type": "code",
        "colab": {
          "base_uri": "https://localhost:8080/",
          "height": 52
        },
        "outputId": "1e30e243-e137-4c1c-ec27-d6c41a3fb4a0"
      },
      "source": [
        "poly = PolynomialFeatures(degree = 4) \n",
        "X_poly = poly.fit_transform(x_train)\n",
        "poly.fit(X_poly, y_train) \n",
        "\n",
        "lin2 = LinearRegression() \n",
        "lin2.fit(X_poly, y_train) \n",
        "p_y_pred = lin2.predict(poly.fit_transform(x_test)) \n",
        "p_y_pred"
      ],
      "execution_count": 172,
      "outputs": [
        {
          "output_type": "execute_result",
          "data": {
            "text/plain": [
              "array([0.00318343, 0.0034119 , 0.0092522 , 0.00166366, 0.00321622,\n",
              "       0.01413777, 0.0226947 , 0.00273031, 0.00373214])"
            ]
          },
          "metadata": {
            "tags": []
          },
          "execution_count": 172
        }
      ]
    },
    {
      "cell_type": "code",
      "metadata": {
        "id": "HvXRpKGw89Lr",
        "colab_type": "code",
        "colab": {
          "base_uri": "https://localhost:8080/",
          "height": 34
        },
        "outputId": "018f18a9-d53c-42eb-b802-3ef790ac5515"
      },
      "source": [
        "r2_score(y_test,p_y_pred)"
      ],
      "execution_count": 173,
      "outputs": [
        {
          "output_type": "execute_result",
          "data": {
            "text/plain": [
              "0.9146391613365806"
            ]
          },
          "metadata": {
            "tags": []
          },
          "execution_count": 173
        }
      ]
    },
    {
      "cell_type": "code",
      "metadata": {
        "id": "RMXl6dKn-be5",
        "colab_type": "code",
        "colab": {
          "base_uri": "https://localhost:8080/",
          "height": 198
        },
        "outputId": "ac515b85-13bf-428c-bdd8-7a197a30447c"
      },
      "source": [
        "#min _ max norm\n",
        "df_norm2 = (df.iloc[:,0:]-np.min(df.iloc[:,0:]))/(np.max(df.iloc[:,0:])-np.min(df.iloc[:,0:]))\n",
        "df_norm2.head()"
      ],
      "execution_count": 156,
      "outputs": [
        {
          "output_type": "execute_result",
          "data": {
            "text/html": [
              "<div>\n",
              "<style scoped>\n",
              "    .dataframe tbody tr th:only-of-type {\n",
              "        vertical-align: middle;\n",
              "    }\n",
              "\n",
              "    .dataframe tbody tr th {\n",
              "        vertical-align: top;\n",
              "    }\n",
              "\n",
              "    .dataframe thead th {\n",
              "        text-align: right;\n",
              "    }\n",
              "</style>\n",
              "<table border=\"1\" class=\"dataframe\">\n",
              "  <thead>\n",
              "    <tr style=\"text-align: right;\">\n",
              "      <th></th>\n",
              "      <th>motor</th>\n",
              "      <th>screw</th>\n",
              "      <th>pgain</th>\n",
              "      <th>vgain</th>\n",
              "      <th>class</th>\n",
              "    </tr>\n",
              "  </thead>\n",
              "  <tbody>\n",
              "    <tr>\n",
              "      <th>0</th>\n",
              "      <td>1.00</td>\n",
              "      <td>1.00</td>\n",
              "      <td>0.666667</td>\n",
              "      <td>0.75</td>\n",
              "      <td>0.021524</td>\n",
              "    </tr>\n",
              "    <tr>\n",
              "      <th>1</th>\n",
              "      <td>0.25</td>\n",
              "      <td>0.75</td>\n",
              "      <td>1.000000</td>\n",
              "      <td>1.00</td>\n",
              "      <td>0.053811</td>\n",
              "    </tr>\n",
              "    <tr>\n",
              "      <th>2</th>\n",
              "      <td>0.75</td>\n",
              "      <td>0.75</td>\n",
              "      <td>0.333333</td>\n",
              "      <td>0.50</td>\n",
              "      <td>0.032287</td>\n",
              "    </tr>\n",
              "    <tr>\n",
              "      <th>3</th>\n",
              "      <td>0.25</td>\n",
              "      <td>0.00</td>\n",
              "      <td>0.000000</td>\n",
              "      <td>0.25</td>\n",
              "      <td>0.770396</td>\n",
              "    </tr>\n",
              "    <tr>\n",
              "      <th>4</th>\n",
              "      <td>0.75</td>\n",
              "      <td>0.25</td>\n",
              "      <td>1.000000</td>\n",
              "      <td>1.00</td>\n",
              "      <td>0.032287</td>\n",
              "    </tr>\n",
              "  </tbody>\n",
              "</table>\n",
              "</div>"
            ],
            "text/plain": [
              "   motor  screw     pgain  vgain     class\n",
              "0   1.00   1.00  0.666667   0.75  0.021524\n",
              "1   0.25   0.75  1.000000   1.00  0.053811\n",
              "2   0.75   0.75  0.333333   0.50  0.032287\n",
              "3   0.25   0.00  0.000000   0.25  0.770396\n",
              "4   0.75   0.25  1.000000   1.00  0.032287"
            ]
          },
          "metadata": {
            "tags": []
          },
          "execution_count": 156
        }
      ]
    },
    {
      "cell_type": "code",
      "metadata": {
        "id": "61YOrP1I_Fq4",
        "colab_type": "code",
        "colab": {
          "base_uri": "https://localhost:8080/",
          "height": 121
        },
        "outputId": "539c51af-3edb-43ae-e21d-f16856fbaba1"
      },
      "source": [
        "X2 = df_norm2.iloc[:,0:4]\n",
        "X2.head()\n",
        "Y2 = df_norm2.iloc[:,-1]\n",
        "Y2.head()"
      ],
      "execution_count": 157,
      "outputs": [
        {
          "output_type": "execute_result",
          "data": {
            "text/plain": [
              "0    0.021524\n",
              "1    0.053811\n",
              "2    0.032287\n",
              "3    0.770396\n",
              "4    0.032287\n",
              "Name: class, dtype: float64"
            ]
          },
          "metadata": {
            "tags": []
          },
          "execution_count": 157
        }
      ]
    },
    {
      "cell_type": "code",
      "metadata": {
        "id": "gCnzMo4s_WmN",
        "colab_type": "code",
        "colab": {
          "base_uri": "https://localhost:8080/",
          "height": 34
        },
        "outputId": "0a346905-082d-4f76-a11d-b63f4480d490"
      },
      "source": [
        "x_train,x_test,y_train,y_test = train_test_split(X2.values,Y2.values,test_size = 0.05,random_state = 0)\n",
        "regressor = LinearRegression()\n",
        "regressor.fit(x_train,y_train)\n",
        "y_pred = regressor.predict(x_test)\n",
        "y_pred\n",
        "r2_score(y_test,y_pred)"
      ],
      "execution_count": 160,
      "outputs": [
        {
          "output_type": "execute_result",
          "data": {
            "text/plain": [
              "0.6524990700344815"
            ]
          },
          "metadata": {
            "tags": []
          },
          "execution_count": 160
        }
      ]
    },
    {
      "cell_type": "code",
      "metadata": {
        "id": "s0l7JlCc_X3V",
        "colab_type": "code",
        "colab": {
          "base_uri": "https://localhost:8080/",
          "height": 34
        },
        "outputId": "66aa01e6-931a-4ce3-f1d4-9d528a12c584"
      },
      "source": [
        "poly = PolynomialFeatures(degree = 2) \n",
        "X_poly = poly.fit_transform(x_train)\n",
        "poly.fit(X_poly, y_train) \n",
        "\n",
        "lin2 = LinearRegression() \n",
        "lin2.fit(X_poly, y_train) \n",
        "p_y_pred = lin2.predict(poly.fit_transform(x_test)) \n",
        "p_y_pred\n",
        "r2_score(y_test,p_y_pred)"
      ],
      "execution_count": 175,
      "outputs": [
        {
          "output_type": "execute_result",
          "data": {
            "text/plain": [
              "0.8642202532907535"
            ]
          },
          "metadata": {
            "tags": []
          },
          "execution_count": 175
        }
      ]
    },
    {
      "cell_type": "code",
      "metadata": {
        "id": "zQbEi3OD_o4U",
        "colab_type": "code",
        "colab": {
          "base_uri": "https://localhost:8080/",
          "height": 198
        },
        "outputId": "28382dd6-2413-4c6c-ca1b-9a40ac5d9e2f"
      },
      "source": [
        "# Linear sum based normalization\n",
        "df_norm3 =  df.iloc[:,0:]/np.sum(df.iloc[:,0:])\n",
        "X3 = df_norm3.iloc[:,0:4]\n",
        "X3.head()\n",
        "Y3 = df_norm3.iloc[:,-1]\n",
        "X3.head()"
      ],
      "execution_count": 163,
      "outputs": [
        {
          "output_type": "execute_result",
          "data": {
            "text/html": [
              "<div>\n",
              "<style scoped>\n",
              "    .dataframe tbody tr th:only-of-type {\n",
              "        vertical-align: middle;\n",
              "    }\n",
              "\n",
              "    .dataframe tbody tr th {\n",
              "        vertical-align: top;\n",
              "    }\n",
              "\n",
              "    .dataframe thead th {\n",
              "        text-align: right;\n",
              "    }\n",
              "</style>\n",
              "<table border=\"1\" class=\"dataframe\">\n",
              "  <thead>\n",
              "    <tr style=\"text-align: right;\">\n",
              "      <th></th>\n",
              "      <th>motor</th>\n",
              "      <th>screw</th>\n",
              "      <th>pgain</th>\n",
              "      <th>vgain</th>\n",
              "    </tr>\n",
              "  </thead>\n",
              "  <tbody>\n",
              "    <tr>\n",
              "      <th>0</th>\n",
              "      <td>0.010395</td>\n",
              "      <td>0.010638</td>\n",
              "      <td>0.007205</td>\n",
              "      <td>0.009434</td>\n",
              "    </tr>\n",
              "    <tr>\n",
              "      <th>1</th>\n",
              "      <td>0.004158</td>\n",
              "      <td>0.008511</td>\n",
              "      <td>0.008646</td>\n",
              "      <td>0.011792</td>\n",
              "    </tr>\n",
              "    <tr>\n",
              "      <th>2</th>\n",
              "      <td>0.008316</td>\n",
              "      <td>0.008511</td>\n",
              "      <td>0.005764</td>\n",
              "      <td>0.007075</td>\n",
              "    </tr>\n",
              "    <tr>\n",
              "      <th>3</th>\n",
              "      <td>0.004158</td>\n",
              "      <td>0.002128</td>\n",
              "      <td>0.004323</td>\n",
              "      <td>0.004717</td>\n",
              "    </tr>\n",
              "    <tr>\n",
              "      <th>4</th>\n",
              "      <td>0.008316</td>\n",
              "      <td>0.004255</td>\n",
              "      <td>0.008646</td>\n",
              "      <td>0.011792</td>\n",
              "    </tr>\n",
              "  </tbody>\n",
              "</table>\n",
              "</div>"
            ],
            "text/plain": [
              "      motor     screw     pgain     vgain\n",
              "0  0.010395  0.010638  0.007205  0.009434\n",
              "1  0.004158  0.008511  0.008646  0.011792\n",
              "2  0.008316  0.008511  0.005764  0.007075\n",
              "3  0.004158  0.002128  0.004323  0.004717\n",
              "4  0.008316  0.004255  0.008646  0.011792"
            ]
          },
          "metadata": {
            "tags": []
          },
          "execution_count": 163
        }
      ]
    },
    {
      "cell_type": "code",
      "metadata": {
        "id": "_AD0Q1H8AIaJ",
        "colab_type": "code",
        "colab": {
          "base_uri": "https://localhost:8080/",
          "height": 34
        },
        "outputId": "bb9442aa-8e56-4876-b159-d0ad54ad71fd"
      },
      "source": [
        "x_train,x_test,y_train,y_test = train_test_split(X3.values,Y3.values,test_size = 0.05,random_state = 0)\n",
        "regressor = LinearRegression()\n",
        "regressor.fit(x_train,y_train)\n",
        "y_pred = regressor.predict(x_test)\n",
        "y_pred\n",
        "r2_score(y_test,y_pred)"
      ],
      "execution_count": 165,
      "outputs": [
        {
          "output_type": "execute_result",
          "data": {
            "text/plain": [
              "0.6524990700344817"
            ]
          },
          "metadata": {
            "tags": []
          },
          "execution_count": 165
        }
      ]
    },
    {
      "cell_type": "code",
      "metadata": {
        "id": "ASBy8-cuAUN8",
        "colab_type": "code",
        "colab": {
          "base_uri": "https://localhost:8080/",
          "height": 34
        },
        "outputId": "38f5f5d7-8710-4969-855d-234ca2f11ebe"
      },
      "source": [
        "poly = PolynomialFeatures(degree = 2) \n",
        "X_poly = poly.fit_transform(x_train)\n",
        "poly.fit(X_poly, y_train) \n",
        "\n",
        "lin2 = LinearRegression() \n",
        "lin2.fit(X_poly, y_train) \n",
        "p_y_pred = lin2.predict(poly.fit_transform(x_test)) \n",
        "p_y_pred\n",
        "r2_score(y_test,p_y_pred)"
      ],
      "execution_count": 174,
      "outputs": [
        {
          "output_type": "execute_result",
          "data": {
            "text/plain": [
              "0.8642202532907535"
            ]
          },
          "metadata": {
            "tags": []
          },
          "execution_count": 174
        }
      ]
    }
  ]
}