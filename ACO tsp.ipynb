{
 "cells": [
  {
   "cell_type": "code",
   "execution_count": 2,
   "metadata": {},
   "outputs": [],
   "source": [
    "import pants\n",
    "import math\n",
    "import random\n",
    "from math import sin, cos, sqrt, atan2\n",
    "\n",
    "import numpy as np\n",
    "import matplotlib.pyplot as plt"
   ]
  },
  {
   "cell_type": "code",
   "execution_count": 3,
   "metadata": {},
   "outputs": [
    {
     "name": "stdout",
     "output_type": "stream",
     "text": [
      "[(-4.836663978579998, -9.938651981712344), (9.315571158438921, 5.457605292215053), (4.868752720179026, 3.207468762286375), (1.08928373388766, -6.108531433691191), (-8.501570658063923, 4.338460855197026), (-6.1983017041252335, -9.204171348908606), (-6.003186075479199, 4.477784147789624), (-6.527465234902319, 8.64216563679826), (9.36595303072512, 7.164390399544256), (-7.710922749948859, -1.2372229681751374)]\n",
      "Node 0 (-4.836663978579998, -9.938651981712344)\n",
      "Node 1 (9.315571158438921, 5.457605292215053)\n",
      "Node 2 (4.868752720179026, 3.207468762286375)\n",
      "Node 3 (1.08928373388766, -6.108531433691191)\n",
      "Node 4 (-8.501570658063923, 4.338460855197026)\n",
      "Node 5 (-6.1983017041252335, -9.204171348908606)\n",
      "Node 6 (-6.003186075479199, 4.477784147789624)\n",
      "Node 7 (-6.527465234902319, 8.64216563679826)\n",
      "Node 8 (9.36595303072512, 7.164390399544256)\n",
      "Node 9 (-7.710922749948859, -1.2372229681751374)\n"
     ]
    }
   ],
   "source": [
    "nodes =[]\n",
    "#world genration\n",
    "for _ in range(10):\n",
    "    X = random.uniform(-10,10)\n",
    "    Y = random.uniform(-10,10)\n",
    "    nodes.append((X,Y))\n",
    "print(nodes)   \n",
    "Tour = []\n",
    "Tour = nodes\n",
    "for i in Tour:\n",
    "    print(\"Node\",nodes.index(i), i)\n"
   ]
  },
  {
   "cell_type": "code",
   "execution_count": 4,
   "metadata": {},
   "outputs": [],
   "source": [
    "def euclid(a,b):\n",
    "    return math.sqrt(pow(a[1]-b[1],2) + pow(a[0]-b[0],2))\n",
    "world = pants.World(nodes,euclid)\n",
    "\n"
   ]
  },
  {
   "cell_type": "code",
   "execution_count": 15,
   "metadata": {},
   "outputs": [
    {
     "name": "stdout",
     "output_type": "stream",
     "text": [
      "[(9.36595303072512, 7.164390399544256), (9.315571158438921, 5.457605292215053), (4.868752720179026, 3.207468762286375), (1.08928373388766, -6.108531433691191), (-4.836663978579998, -9.938651981712344), (-6.1983017041252335, -9.204171348908606), (-7.710922749948859, -1.2372229681751374), (-8.501570658063923, 4.338460855197026), (-6.003186075479199, 4.477784147789624), (-6.527465234902319, 8.64216563679826)]\n",
      "  Node 8  to (9.36595303072512, 7.164390399544256)\n",
      "  Node 1  to (9.315571158438921, 5.457605292215053)\n",
      "  Node 2  to (4.868752720179026, 3.207468762286375)\n",
      "  Node 3  to (1.08928373388766, -6.108531433691191)\n",
      "  Node 0  to (-4.836663978579998, -9.938651981712344)\n",
      "  Node 5  to (-6.1983017041252335, -9.204171348908606)\n",
      "  Node 9  to (-7.710922749948859, -1.2372229681751374)\n",
      "  Node 4  to (-8.501570658063923, 4.338460855197026)\n",
      "  Node 6  to (-6.003186075479199, 4.477784147789624)\n",
      "  Node 7  to (-6.527465234902319, 8.64216563679826)\n",
      "Shortest Distance 61.749997521490684\n"
     ]
    }
   ],
   "source": [
    "solver = pants.Solver(rho = 0.5,q =1,t0 = 0.01,limit = 50,ant_count=10)\n",
    "#rho : percent evapouration od pherohome\n",
    "#q : total pherohome deposited by each ant\n",
    "#to : intial phermone level along each edge\n",
    "#limit : number of iterations to perform\n",
    "#ant_count: how many ants\n",
    "\n",
    "\n",
    "solution = solver.solve(world)\n",
    "\n",
    "Tour = solution.tour\n",
    "print(Tour)\n",
    "for i in Tour:\n",
    "    print(\"  Node\",nodes.index(i),\" \"+ \"to\",i)\n",
    "print(\"Shortest Distance\",solution.distance)    \n",
    "\n"
   ]
  },
  {
   "cell_type": "code",
   "execution_count": null,
   "metadata": {},
   "outputs": [],
   "source": []
  },
  {
   "cell_type": "code",
   "execution_count": 131,
   "metadata": {},
   "outputs": [
    {
     "name": "stdout",
     "output_type": "stream",
     "text": [
      "Help on package pants:\n",
      "\n",
      "NAME\n",
      "    pants - A Python3 implementation of the Ant Colony Optimization Meta-Heuristic.\n",
      "\n",
      "DESCRIPTION\n",
      "    **Pants** provides you with the ability to quickly determine how to\n",
      "    visit a collection of interconnected nodes such that the work done is\n",
      "    minimized. Nodes can be any arbitrary collection of data while the edges\n",
      "    represent the amount of \"work\" required to travel between two nodes.\n",
      "    Thus, **Pants** is a tool for solving traveling salesman problems.\n",
      "    \n",
      "    The world is built from a list of nodes and a function responsible for\n",
      "    returning the length of the edge between any two given nodes. The length\n",
      "    function need not return actual length. Instead, \"length\" refers to that \n",
      "    the amount of \"work\" involved in moving from the first node to the second\n",
      "    node - whatever that \"work\" may be. For a silly, random example, it could\n",
      "    even be the number of dishes one must wash before moving to the next \n",
      "    station at a least dish-washing dish washer competition.\n",
      "    \n",
      "    Solutions are found through an iterative process. In each iteration,\n",
      "    several ants are allowed to find a solution that \"visits\" every node of\n",
      "    the world. The amount of pheromone on each edge is updated according to\n",
      "    the length of the solutions in which it was used. The ant that traveled the\n",
      "    least distance is considered to be the local best solution. If the local\n",
      "    solution has a shorter distance than the best from any previous\n",
      "    iteration, it then becomes the global best solution. The elite ant(s)\n",
      "    then deposit their pheromone along the path of the global best solution\n",
      "    to strengthen it further, and the process repeats.\n",
      "    \n",
      "    You can read more about `Ant Colony Optimization on\n",
      "    Wikipedia <http://en.wikipedia.org/wiki/Ant_colony_optimization_algorithms>`_.\n",
      "    \n",
      "    .. moduleauthor:: Robert Grant <rhgrant10@gmail.com>\n",
      "\n",
      "PACKAGE CONTENTS\n",
      "    ant\n",
      "    solver\n",
      "    test (package)\n",
      "    world\n",
      "\n",
      "FILE\n",
      "    d:\\anaconda\\lib\\site-packages\\pants\\__init__.py\n",
      "\n",
      "\n"
     ]
    }
   ],
   "source": [
    "help(pants)"
   ]
  },
  {
   "cell_type": "code",
   "execution_count": null,
   "metadata": {},
   "outputs": [],
   "source": []
  }
 ],
 "metadata": {
  "kernelspec": {
   "display_name": "Python 3",
   "language": "python",
   "name": "python3"
  },
  "language_info": {
   "codemirror_mode": {
    "name": "ipython",
    "version": 3
   },
   "file_extension": ".py",
   "mimetype": "text/x-python",
   "name": "python",
   "nbconvert_exporter": "python",
   "pygments_lexer": "ipython3",
   "version": "3.7.3"
  }
 },
 "nbformat": 4,
 "nbformat_minor": 2
}
